{
 "cells": [
  {
   "cell_type": "code",
   "execution_count": 3,
   "metadata": {},
   "outputs": [],
   "source": [
    "def bsm_call_value (S0, K, T, r, sigma):\n",
    "  '''\n",
    "  Parameters:\n",
    "  S0 : float - initial stock/index level \n",
    "  K : float - strike price \n",
    "  T : float - maturity date (in year fractions) \n",
    "  r : float - constant risk-free short rate \n",
    "  sigma : float - volatility factor in diffusion term \n",
    "\n",
    "  Returns:\n",
    "  value : float - present value of the European call option\n",
    "  '''\n",
    "\n",
    "  from math import log, sqrt, exp\n",
    "  from scipy import stats\n",
    "  \n",
    "  S0 = float(S0)\n",
    "  d1 = (log(S0/K) + (r + 0.5 * sigma ** 2) * T) / (sigma * sqrt(T))\n",
    "  d2 = (log(S0 / K) + (r - 0.5 * sigma ** 2) * T) / (sigma * sqrt(T))\n",
    "  value = (S0 * stats.norm.cdf(d1, 0.0, 1.0) - K * exp (-r * T) * stats.norm.cdf(d2, 0.0, 1.0))\n",
    "  return value"
   ]
  },
  {
   "cell_type": "code",
   "execution_count": 10,
   "metadata": {},
   "outputs": [],
   "source": [
    "def bsm_vega(S0, K, T, r, sigma): \n",
    "  '''\n",
    "  Parameters:\n",
    "    S0 : float - initial stock/index level \n",
    "    K : float - strike price \n",
    "    T : float maturity date (in year fractions) \n",
    "    r : float - constant risk-free short rate \n",
    "    sigma : float - volatility factor in diffusion term\n",
    "\n",
    "  Returns:\n",
    "    vega : float - partial derivative of BSM formula with respect to sigma, i.e. Vega\n",
    "  ''' \n",
    "\n",
    "  from math import log, sqrt \n",
    "  from scipy import stats \n",
    "  S0 = float(S0) \n",
    "  d1 = (log(S0/K) + (r + 0.5 * sigma ** 2) * T) / (sigma * sqrt(T))\n",
    "  vega = S0 * stats.norm.cdf(d1, 0.0, 1.0) * sqrt(T)\n",
    "  return vega"
   ]
  },
  {
   "cell_type": "code",
   "execution_count": 9,
   "metadata": {
    "collapsed": true
   },
   "outputs": [],
   "source": [
    "def bsm_call_imp_vol(S0, K, T, r, C0, sigma_est, it = 100): \n",
    "  ''' \n",
    "  Parameters:\n",
    "    S0 : float - initial stock/index level \n",
    "    K : float - strike price \n",
    "    T : float - maturity date (in year fractions) \n",
    "    r : float - constant risk-free short rate \n",
    "    sigma_est : float estimate of impl. volatility \n",
    "    it : integer number of iterations \n",
    "\n",
    "  Returns:\n",
    "    simga_est : float - numerically estimated implied volatility\n",
    "  '''\n",
    "\n",
    "  for i in range ( it ): \n",
    "    sigma_est -= ((bsm_call_value(S0, K, T, r, sigma_est) - C0) / bsm_vega(S0, K, T, r, sigma_est))\n",
    "  return sigma_est"
   ]
  },
  {
   "cell_type": "code",
   "execution_count": null,
   "metadata": {
    "collapsed": true
   },
   "outputs": [],
   "source": []
  }
 ],
 "metadata": {
  "kernelspec": {
   "display_name": "Python 3",
   "language": "python",
   "name": "python3"
  },
  "language_info": {
   "codemirror_mode": {
    "name": "ipython",
    "version": 3
   },
   "file_extension": ".py",
   "mimetype": "text/x-python",
   "name": "python",
   "nbconvert_exporter": "python",
   "pygments_lexer": "ipython3",
   "version": "3.5.2"
  }
 },
 "nbformat": 4,
 "nbformat_minor": 2
}

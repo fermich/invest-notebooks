{
 "cells": [
  {
   "cell_type": "code",
   "execution_count": null,
   "metadata": {
    "collapsed": true
   },
   "outputs": [],
   "source": [
    "def bsm_call_value (S0, K, T, r, sigma):\n",
    "  '''\n",
    "  Parameters:\n",
    "  S0 : float - initial stock/index level \n",
    "  K : float - strike price \n",
    "  T : float - maturity date (in year fractions) \n",
    "  r : float - constant risk-free short rate \n",
    "  sigma : float - volatility factor in diffusion term \n",
    "\n",
    "  Returns:\n",
    "  value : float - present value of the European call option\n",
    "  '''\n",
    "\n",
    "  from math import log, sqrt, exp\n",
    "  from scipy import stats\n",
    "  \n",
    "  S0 = float(S0)\n",
    "  d1 = (log(S0/K) + (r + 0.5 * sigma ** 2) * T) / (sigma * sqrt(T))\n",
    "  d2 = (log(S0 / K) + (r - 0.5 * sigma ** 2) * T) / (sigma * sqrt(T))\n",
    "  value = (S0 * stats.norm.cdf(d1, 0.0, 1.0) - K * exp (-r * T) * stats.norm.cdf(d2, 0.0, 1.0))\n",
    "  return value"
   ]
  },
  {
   "cell_type": "code",
   "execution_count": null,
   "metadata": {
    "collapsed": true
   },
   "outputs": [],
   "source": [
    "def bsm_vega(S0, K, T, r, sigma): \n",
    "  '''\n",
    "  Parameters:\n",
    "    S0 : float - initial stock/index level \n",
    "    K : float - strike price \n",
    "    T : float maturity date (in year fractions) \n",
    "    r : float - constant risk-free short rate \n",
    "    sigma : float - volatility factor in diffusion term\n",
    "\n",
    "  Returns:\n",
    "    vega : float - partial derivative of BSM formula with respect to sigma, i.e. Vega\n",
    "  ''' \n",
    "\n",
    "  from math import log, sqrt \n",
    "  from scipy import stats \n",
    "  S0 = float(S0) \n",
    "  d1 = (log(S0/K) + (r + 0.5 * sigma ** 2) * T) / (sigma * sqrt(T))\n",
    "  vega = S0 * stats.norm.cdf(d1, 0.0, 1.0) * sqrt(T)\n",
    "  return vega"
   ]
  },
  {
   "cell_type": "code",
   "execution_count": null,
   "metadata": {
    "collapsed": true
   },
   "outputs": [],
   "source": [
    "def bsm_call_imp_vol(S0, K, T, r, C0, sigma_est, it = 100): \n",
    "  ''' \n",
    "  Parameters:\n",
    "    S0 : float - initial stock/index level \n",
    "    K : float - strike price \n",
    "    T : float - maturity date (in year fractions) \n",
    "    r : float - constant risk-free short rate \n",
    "    sigma_est : float estimate of impl. volatility \n",
    "    it : integer number of iterations \n",
    "\n",
    "  Returns:\n",
    "    simga_est : float - numerically estimated implied volatility\n",
    "  '''\n",
    "\n",
    "  for i in range ( it ): \n",
    "    sigma_est -= ((bsm_call_value(S0, K, T, r, sigma_est) - C0) / bsm_vega(S0, K, T, r, sigma_est))\n",
    "  return sigma_est"
   ]
  },
  {
   "cell_type": "code",
   "execution_count": null,
   "metadata": {},
   "outputs": [],
   "source": [
    "from dao import InvestDao\n",
    "dao = InvestDao(host=\"172.17.0.1\", port=3306, user=\"user\", passwd=\"passwd\", db=\"db\")"
   ]
  },
  {
   "cell_type": "code",
   "execution_count": null,
   "metadata": {},
   "outputs": [],
   "source": [
    "r = dao.sql(\"select rate from rates where dtyymmdd='2017-06-02' and symbol='WIBOR6M'\")[0]\n",
    "rate = float(r[0])/100.0"
   ]
  },
  {
   "cell_type": "code",
   "execution_count": null,
   "metadata": {},
   "outputs": [],
   "source": [
    "(ttm, strike, close) = dao.sql(\"select ttm, strike, close from v_option_quotes where ticker='OW20C181800' and dtyymmdd='2017-06-02' and type='C'\")[0]"
   ]
  },
  {
   "cell_type": "code",
   "execution_count": null,
   "metadata": {},
   "outputs": [],
   "source": [
    "(initial, volatility) = dao.sql(\"select close, std_close from v_stock_stats where dtyymmdd = '2017-06-02'\")[0]"
   ]
  },
  {
   "cell_type": "code",
   "execution_count": null,
   "metadata": {},
   "outputs": [],
   "source": [
    "bsm_call_imp_vol(float(initial), float(strike), float(ttm), float(rate), float(close), float(volatility))"
   ]
  },
  {
   "cell_type": "code",
   "execution_count": null,
   "metadata": {
    "collapsed": true
   },
   "outputs": [],
   "source": []
  }
 ],
 "metadata": {
  "kernelspec": {
   "display_name": "Python 3",
   "language": "python",
   "name": "python3"
  },
  "language_info": {
   "codemirror_mode": {
    "name": "ipython",
    "version": 3
   },
   "file_extension": ".py",
   "mimetype": "text/x-python",
   "name": "python",
   "nbconvert_exporter": "python",
   "pygments_lexer": "ipython3",
   "version": "3.5.2"
  }
 },
 "nbformat": 4,
 "nbformat_minor": 2
}

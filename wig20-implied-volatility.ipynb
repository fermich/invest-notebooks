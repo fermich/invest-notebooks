{
 "cells": [
  {
   "cell_type": "code",
   "execution_count": null,
   "metadata": {
    "collapsed": true
   },
   "outputs": [],
   "source": [
    "def bsm_call_value (S, X, t, r, sigma):\n",
    "  '''\n",
    "  S : float - initial stock/index level\n",
    "  X : float - strike price\n",
    "  t : float - maturity date\n",
    "  r : float - constant risk-free short rate\n",
    "  sigma : float - volatility\n",
    "  '''\n",
    "\n",
    "  from math import log, sqrt, exp\n",
    "  from scipy import stats\n",
    "  \n",
    "  S = float(S)\n",
    "  d1 = (log(S/X) + (r + 0.5 * sigma ** 2) * t) / (sigma * sqrt(t))\n",
    "  d2 = (log(S/X) + (r - 0.5 * sigma ** 2) * t) / (sigma * sqrt(t))\n",
    "  value = (S * stats.norm.cdf(d1, 0.0, 1.0) - X * exp (-r * t) * stats.norm.cdf(d2, 0.0, 1.0))\n",
    "  return value"
   ]
  },
  {
   "cell_type": "code",
   "execution_count": null,
   "metadata": {
    "collapsed": true
   },
   "outputs": [],
   "source": [
    "def bsm_vega(S, X, t, r, sigma): \n",
    "  '''\n",
    "  S : float - initial stock/index level \n",
    "  X : float - strike price \n",
    "  t : float - maturity date\n",
    "  r : float - constant risk-free short rate \n",
    "  sigma : float - volatility factor\n",
    "  ''' \n",
    "\n",
    "  from math import log, sqrt \n",
    "  from scipy import stats \n",
    "  S = float(S) \n",
    "  d1 = (log(S/X) + (r + 0.5 * sigma ** 2) * t) / (sigma * sqrt(t))\n",
    "  vega = S * stats.norm.cdf(d1, 0.0, 1.0) * sqrt(t)\n",
    "  return vega"
   ]
  },
  {
   "cell_type": "code",
   "execution_count": null,
   "metadata": {
    "collapsed": true
   },
   "outputs": [],
   "source": [
    "def bsm_call_imp_vol(S, X, t, r, C, sigma_est, it = 100): \n",
    "  ''' \n",
    "  S : float - initial stock/index level \n",
    "  X : float - strike price \n",
    "  t : float - maturity date\n",
    "  r : float - constant risk-free short rate \n",
    "  C : float - option level\n",
    "  sigma_est : float estimate of impl. volatility \n",
    "  it : integer number of iterations \n",
    "  '''\n",
    "\n",
    "  for i in range (it): \n",
    "    sigma_est -= ((bsm_call_value(S, X, t, r, sigma_est) - C) / bsm_vega(S, X, t, r, sigma_est))\n",
    "  return sigma_est"
   ]
  },
  {
   "cell_type": "code",
   "execution_count": null,
   "metadata": {
    "collapsed": true
   },
   "outputs": [],
   "source": [
    "from dao import InvestDao\n",
    "dao = InvestDao()"
   ]
  },
  {
   "cell_type": "code",
   "execution_count": null,
   "metadata": {
    "collapsed": true
   },
   "outputs": [],
   "source": [
    "r = dao.sql(\"select rate from rates where dtyymmdd='2017-06-02' and symbol='WIBOR6M' order by dtyymmdd\")[0]\n",
    "rate = float(r[0])/100.0"
   ]
  },
  {
   "cell_type": "code",
   "execution_count": null,
   "metadata": {
    "collapsed": true
   },
   "outputs": [],
   "source": [
    "(ttm, strike, close) = dao.sql(\"select ttm, strike, close from v_option_quotes where ticker='OW20C181800' and dtyymmdd='2017-06-02' and type='C' order by dtyymmdd\")[0]"
   ]
  },
  {
   "cell_type": "code",
   "execution_count": null,
   "metadata": {
    "collapsed": true
   },
   "outputs": [],
   "source": [
    "(initial, avg_close, std_close) = dao.sql(\"select close, avg_close, std_close from v_stock_stats where dtyymmdd = '2017-06-02' order by dtyymmdd\")[0]\n",
    "volatility = float(std_close)/float(avg_close)"
   ]
  },
  {
   "cell_type": "code",
   "execution_count": null,
   "metadata": {
    "collapsed": true
   },
   "outputs": [],
   "source": [
    "implied_volatility = bsm_call_imp_vol(float(initial), float(strike), float(ttm), float(rate), float(close), volatility)"
   ]
  },
  {
   "cell_type": "code",
   "execution_count": null,
   "metadata": {},
   "outputs": [],
   "source": [
    "print(\"implied volatility = %s\" % implied_volatility)"
   ]
  },
  {
   "cell_type": "code",
   "execution_count": null,
   "metadata": {
    "collapsed": true
   },
   "outputs": [],
   "source": []
  }
 ],
 "metadata": {
  "kernelspec": {
   "display_name": "Python 3",
   "language": "python",
   "name": "python3"
  },
  "language_info": {
   "codemirror_mode": {
    "name": "ipython",
    "version": 3
   },
   "file_extension": ".py",
   "mimetype": "text/x-python",
   "name": "python",
   "nbconvert_exporter": "python",
   "pygments_lexer": "ipython3",
   "version": "3.5.2"
  }
 },
 "nbformat": 4,
 "nbformat_minor": 2
}

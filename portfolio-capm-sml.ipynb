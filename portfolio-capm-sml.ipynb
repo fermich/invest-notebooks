{
 "cells": [
  {
   "cell_type": "code",
   "execution_count": null,
   "metadata": {
    "collapsed": true
   },
   "outputs": [],
   "source": [
    "def beta(data):\n",
    "    import numpy as np\n",
    "\n",
    "    #log returns:\n",
    "    data_rets = np.log(data / data.shift(-1))\n",
    "    # Cov(Rmarket, Rstock) / Var(Rmarket)\n",
    "    covmat = data_rets.cov()\n",
    "    beta = covmat.iat[0,1] / covmat.iat[1,1]\n",
    "    return beta"
   ]
  },
  {
   "cell_type": "code",
   "execution_count": null,
   "metadata": {
    "collapsed": true
   },
   "outputs": [],
   "source": [
    "def capm_sml(data, beta, risk_free_rate):\n",
    "    import numpy as np\n",
    "    \n",
    "    # log returns:\n",
    "    data_rets = np.log(data / data.shift(-1))\n",
    "    # calculate expected returns:\n",
    "    ex = data_rets.mean()\n",
    "    market_risk_premium = ex['WIG20'] - risk_free_rate\n",
    "    # required return on stock:\n",
    "    rs = risk_free_rate + beta * market_risk_premium\n",
    "    return rs"
   ]
  },
  {
   "cell_type": "code",
   "execution_count": null,
   "metadata": {
    "collapsed": true
   },
   "outputs": [],
   "source": [
    "def load_data(symbols):\n",
    "    import pandas as pd\n",
    "    from dao import InvestDao\n",
    "    \n",
    "    dao = InvestDao()\n",
    "    data = pd.DataFrame()\n",
    "    for sym in symbols:\n",
    "        rows = dao.sql(\"SELECT close FROM stock_quotes WHERE dtyymmdd > '2016-06-01' AND ticker = '%s' ORDER BY dtyymmdd\" % sym)\n",
    "        data[sym] = [float(r[0]) for r in rows]\n",
    "    data.columns = symbols\n",
    "    return data"
   ]
  },
  {
   "cell_type": "code",
   "execution_count": null,
   "metadata": {},
   "outputs": [],
   "source": [
    "import numpy as np\n",
    "symbols = ['WIG20', 'KGHM']\n",
    "data = load_data(symbols)\n",
    "b = beta(data)\n",
    "sml = capm_sml(data, b, 0.04)\n",
    "print(\"Required Return on Stock is: %s\" % sml)"
   ]
  },
  {
   "cell_type": "code",
   "execution_count": null,
   "metadata": {
    "collapsed": true
   },
   "outputs": [],
   "source": []
  }
 ],
 "metadata": {
  "kernelspec": {
   "display_name": "Python 3",
   "language": "python",
   "name": "python3"
  },
  "language_info": {
   "codemirror_mode": {
    "name": "ipython",
    "version": 3
   },
   "file_extension": ".py",
   "mimetype": "text/x-python",
   "name": "python",
   "nbconvert_exporter": "python",
   "pygments_lexer": "ipython3",
   "version": "3.5.2"
  }
 },
 "nbformat": 4,
 "nbformat_minor": 2
}

{
 "cells": [
  {
   "cell_type": "code",
   "execution_count": null,
   "metadata": {
    "collapsed": true
   },
   "outputs": [],
   "source": [
    "def mcs_var(S0, T, r, sigma, I=10000):\n",
    "  from numpy import random, zeros, exp, sort, sqrt, average\n",
    "  import matplotlib.pyplot as plt\n",
    "  from scipy import stats\n",
    "\n",
    "  # The level of a stock index ST at a future date T given a level S0 as of today is given according to:\n",
    "  # ST = S0 * exp((r - 1/2 * sigma^2) * T + sigma * sqrt(T) * z)\n",
    "  # where z is standard normally distributed random variable\n",
    "  ST = S0 * exp((r - 0.5 * sigma ** 2) * T + sigma * sqrt(T) * random.standard_normal(I))\n",
    "\n",
    "  avg = average(ST)\n",
    "  print(\"Average estimated index value: \" + str(avg))\n",
    "\n",
    "  R_gbm = sort(ST - S0)\n",
    "\n",
    "  # maximum loss which can occur with X% confidence over a holding period of T * 365 days\n",
    "  percs = [0.01, 0.1, 1., 2.5, 5.0, 10.0]\n",
    "  var = stats.scoreatpercentile(R_gbm, percs) \n",
    "  print(\"%16s %16s \" % ('Confidence Level', 'Value-at-Risk'))\n",
    "  \n",
    "  print(33 * \"-\")\n",
    "  for pair in zip (percs, var):\n",
    "    print(\" %16.2f %16.3f \" % (100 - pair[0], -pair[1]))\n"
   ]
  },
  {
   "cell_type": "code",
   "execution_count": null,
   "metadata": {
    "collapsed": true
   },
   "outputs": [],
   "source": [
    "from dao import InvestDao\n",
    "dao = InvestDao()"
   ]
  },
  {
   "cell_type": "code",
   "execution_count": null,
   "metadata": {
    "collapsed": true
   },
   "outputs": [],
   "source": [
    "r = dao.sql(\"select rate from rates where dtyymmdd='2017-06-02' and symbol='WIBOR6M' order by dtyymmdd\")[0]\n",
    "rate = float(r[0])/100.0"
   ]
  },
  {
   "cell_type": "code",
   "execution_count": null,
   "metadata": {
    "collapsed": true
   },
   "outputs": [],
   "source": [
    "# determine volatility of historic returns\n",
    "(initial, avg_close, std_close) = dao.sql(\"select close, avg_close, std_close from v_stock_stats where dtyymmdd = '2017-06-02' order by dtyymmdd\")[0]\n",
    "volatility = float(std_close)/float(avg_close)"
   ]
  },
  {
   "cell_type": "code",
   "execution_count": null,
   "metadata": {
    "collapsed": true
   },
   "outputs": [],
   "source": [
    "# time horizon = 30 days\n",
    "T = 30 / 365."
   ]
  },
  {
   "cell_type": "code",
   "execution_count": null,
   "metadata": {},
   "outputs": [],
   "source": [
    "mcs_var(float(initial), float(T), float(rate), volatility)"
   ]
  },
  {
   "cell_type": "code",
   "execution_count": null,
   "metadata": {
    "collapsed": true
   },
   "outputs": [],
   "source": []
  }
 ],
 "metadata": {
  "kernelspec": {
   "display_name": "Python 3",
   "language": "python",
   "name": "python3"
  },
  "language_info": {
   "codemirror_mode": {
    "name": "ipython",
    "version": 3
   },
   "file_extension": ".py",
   "mimetype": "text/x-python",
   "name": "python",
   "nbconvert_exporter": "python",
   "pygments_lexer": "ipython3",
   "version": "3.5.2"
  }
 },
 "nbformat": 4,
 "nbformat_minor": 2
}

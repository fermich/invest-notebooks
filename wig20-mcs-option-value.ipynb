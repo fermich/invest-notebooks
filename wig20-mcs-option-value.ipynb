{
 "cells": [
  {
   "cell_type": "code",
   "execution_count": null,
   "metadata": {
    "collapsed": true
   },
   "outputs": [],
   "source": [
    "def gbm_mcs_option_value (S0, X, T, r, sigma, option='call', M=50, I=50000):\n",
    "  '''\n",
    "  S0 : float - initial stock/index level \n",
    "  X : float - strike price \n",
    "  T : float - maturity date\n",
    "  r : float - constant risk-free short rate \n",
    "  sigma : float - volatility\n",
    "  '''\n",
    "\n",
    "  import math\n",
    "  from numpy import random, zeros, exp, sqrt, maximum, sum\n",
    "\n",
    "  random.seed(20000)\n",
    "\n",
    "  # The level of a stock index ST at a future date T given a level S0 as of today is given according to:\n",
    "  # ST = S0 * exp((r - 1/2 * sigma^2) * T + sigma * sqrt(T) * z)\n",
    "  # where z is standard normally distributed random variable\n",
    "  dt = T / M\n",
    "  S = zeros((M + 1 ,I)) \n",
    "  S[0] = S0 \n",
    "  sn = sn = random.standard_normal((M + 1, I))\n",
    "  for t in range (1, M + 1):\n",
    "    S[t] = S[t-1] * exp((r - 0.5 * sigma ** 2) * dt + sigma * sqrt(dt) * sn[t]) \n",
    "\n",
    "  # The payoff of a European call option on an index at maturity is given by:\n",
    "  # h(ST) = max(ST - X,0)\n",
    "  # where ST is the index level at maturity date T and X is the strike price. \n",
    "  if option == 'call': \n",
    "    hT = maximum(S[-1] - X, 0) \n",
    "  else: \n",
    "    hT = maximum(X - S[-1], 0) \n",
    "\n",
    "  # Monte Carlo estimator for the European option:\n",
    "  # C = exp(-r * T) * sum(i=1; i<=I; h(STi)) / I\n",
    "  # where STi is the ith simulated index level at maturity\n",
    "  C0 = exp(-r * T) * 1 / I * sum(hT) \n",
    "  return C0"
   ]
  },
  {
   "cell_type": "code",
   "execution_count": null,
   "metadata": {
    "collapsed": true
   },
   "outputs": [],
   "source": [
    "from dao import InvestDao\n",
    "dao = InvestDao(host=\"172.17.0.1\", port=3306, user=\"user\", passwd=\"passwd\", db=\"db\")"
   ]
  },
  {
   "cell_type": "code",
   "execution_count": null,
   "metadata": {
    "collapsed": true
   },
   "outputs": [],
   "source": [
    "r = dao.sql(\"select rate from rates where dtyymmdd='2017-06-02' and symbol='WIBOR6M'\")[0]\n",
    "rate = float(r[0])/100.0"
   ]
  },
  {
   "cell_type": "code",
   "execution_count": null,
   "metadata": {
    "collapsed": true
   },
   "outputs": [],
   "source": [
    "(ttm, strike, close) = dao.sql(\"select ttm, strike, close from v_option_quotes where ticker='OW20C181800' and dtyymmdd='2017-06-02' and type='C'\")[0]"
   ]
  },
  {
   "cell_type": "code",
   "execution_count": null,
   "metadata": {
    "collapsed": true
   },
   "outputs": [],
   "source": [
    "(initial, avg_close, std_close) = dao.sql(\"select close, avg_close, std_close from v_stock_stats where dtyymmdd = '2017-06-02'\")[0]\n",
    "volatility = float(std_close)/float(avg_close)"
   ]
  },
  {
   "cell_type": "code",
   "execution_count": null,
   "metadata": {
    "collapsed": true
   },
   "outputs": [],
   "source": [
    "simulated = gbm_mcs_option_value(float(initial), float(strike), float(ttm), float(rate), volatility)"
   ]
  },
  {
   "cell_type": "code",
   "execution_count": null,
   "metadata": {
    "collapsed": true
   },
   "outputs": [],
   "source": [
    "print(\"real=%s simulated=%s\" % (close, simulated))"
   ]
  },
  {
   "cell_type": "code",
   "execution_count": null,
   "metadata": {
    "collapsed": true
   },
   "outputs": [],
   "source": []
  }
 ],
 "metadata": {
  "kernelspec": {
   "display_name": "Python 3",
   "language": "python",
   "name": "python3"
  },
  "language_info": {
   "codemirror_mode": {
    "name": "ipython",
    "version": 3
   },
   "file_extension": ".py",
   "mimetype": "text/x-python",
   "name": "python",
   "nbconvert_exporter": "python",
   "pygments_lexer": "ipython3",
   "version": "3.5.2"
  }
 },
 "nbformat": 4,
 "nbformat_minor": 2
}

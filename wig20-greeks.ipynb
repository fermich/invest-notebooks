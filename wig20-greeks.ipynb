{
 "cells": [
  {
   "cell_type": "code",
   "execution_count": null,
   "metadata": {
    "collapsed": true
   },
   "outputs": [],
   "source": [
    "def greeks_delta (S0, K, T, r, sigma):\n",
    "  '''\n",
    "  Parameters:\n",
    "  S0 : float - initial stock/index level \n",
    "  K : float - strike price \n",
    "  T : float - maturity date (in year fractions) \n",
    "  r : float - constant risk-free short rate \n",
    "  sigma : float - volatility factor in diffusion term \n",
    "\n",
    "  Returns:\n",
    "  value : float - present value of the European call option\n",
    "  '''\n",
    "\n",
    "  from math import log, sqrt, exp\n",
    "  from scipy import stats\n",
    "  \n",
    "  S0 = float(S0)\n",
    "  d1 = (log(S0/K) + (r + 0.5 * sigma ** 2) * T) / (sigma * sqrt(T))\n",
    "  delta = stats.norm.cdf(d1, 0.0, 1.0)\n",
    "  return delta"
   ]
  },
  {
   "cell_type": "code",
   "execution_count": null,
   "metadata": {
    "collapsed": true
   },
   "outputs": [],
   "source": [
    "def greeks_gamma (S0, K, T, r, sigma):\n",
    "  '''\n",
    "  Parameters:\n",
    "  S0 : float - initial stock/index level \n",
    "  K : float - strike price \n",
    "  T : float - maturity date (in year fractions) \n",
    "  r : float - constant risk-free short rate \n",
    "  sigma : float - volatility factor in diffusion term \n",
    "\n",
    "  Returns:\n",
    "  value : float - present value of the European call option\n",
    "  '''\n",
    "\n",
    "  from math import log, sqrt, exp\n",
    "  from scipy import stats\n",
    "  \n",
    "  S0 = float(S0)\n",
    "  d1 = (log(S0/K) + (r + 0.5 * sigma ** 2) * T) / (sigma * sqrt(T))\n",
    "  gamma = stats.norm.cdf(d1, 0.0, 1.0) / (S0 * T)\n",
    "  return gamma"
   ]
  },
  {
   "cell_type": "code",
   "execution_count": null,
   "metadata": {
    "collapsed": true
   },
   "outputs": [],
   "source": [
    "def greeks_vega(S0, K, T, r, sigma): \n",
    "  '''\n",
    "  Parameters:\n",
    "    S0 : float - initial stock/index level \n",
    "    K : float - strike price \n",
    "    T : float maturity date (in year fractions) \n",
    "    r : float - constant risk-free short rate \n",
    "    sigma : float - volatility factor in diffusion term\n",
    "\n",
    "  Returns:\n",
    "    vega : float - partial derivative of BSM formula with respect to sigma, i.e. Vega\n",
    "  ''' \n",
    "\n",
    "  from math import log, sqrt \n",
    "  from scipy import stats \n",
    "  S0 = float(S0) \n",
    "  d1 = (log(S0/K) + (r + 0.5 * sigma ** 2) * T) / (sigma * sqrt(T))\n",
    "  vega = S0 * stats.norm.cdf(d1, 0.0, 1.0) * sqrt(T)\n",
    "  return vega"
   ]
  },
  {
   "cell_type": "code",
   "execution_count": null,
   "metadata": {
    "collapsed": true
   },
   "outputs": [],
   "source": [
    "from dao import InvestDao\n",
    "dao = InvestDao(host=\"172.17.0.1\", port=3306, user=\"user\", passwd=\"passwd\", db=\"db\")"
   ]
  },
  {
   "cell_type": "code",
   "execution_count": null,
   "metadata": {
    "collapsed": true
   },
   "outputs": [],
   "source": [
    "r = dao.sql(\"select rate from rates where dtyymmdd='2017-06-02' and symbol='WIBOR6M'\")[0]\n",
    "rate = float(r[0])/100.0"
   ]
  },
  {
   "cell_type": "code",
   "execution_count": null,
   "metadata": {
    "collapsed": true
   },
   "outputs": [],
   "source": [
    "(ttm, strike, close) = dao.sql(\"select ttm, strike, close from v_option_quotes where ticker='OW20C181800' and dtyymmdd='2017-06-02' and type='C'\")[0]"
   ]
  },
  {
   "cell_type": "code",
   "execution_count": null,
   "metadata": {
    "collapsed": true
   },
   "outputs": [],
   "source": [
    "(initial, avg_close, std_close) = dao.sql(\"select close, avg_close, std_close from v_stock_stats where dtyymmdd = '2017-06-02'\")[0]\n",
    "volatility = float(std_close)/float(avg_close)"
   ]
  },
  {
   "cell_type": "code",
   "execution_count": null,
   "metadata": {
    "collapsed": true
   },
   "outputs": [],
   "source": [
    "delta = greeks_delta(float(initial), float(strike), float(ttm), float(rate), volatility)\n",
    "gamma = greeks_gamma(float(initial), float(strike), float(ttm), float(rate), volatility)\n",
    "vega = greeks_vega(float(initial), float(strike), float(ttm), float(rate), volatility)"
   ]
  },
  {
   "cell_type": "code",
   "execution_count": null,
   "metadata": {},
   "outputs": [],
   "source": [
    "print(\"delta=%s gamma=%s vega=%s\" % (delta, gamma, vega))"
   ]
  }
 ],
 "metadata": {
  "kernelspec": {
   "display_name": "Python 3",
   "language": "python",
   "name": "python3"
  },
  "language_info": {
   "codemirror_mode": {
    "name": "ipython",
    "version": 3
   },
   "file_extension": ".py",
   "mimetype": "text/x-python",
   "name": "python",
   "nbconvert_exporter": "python",
   "pygments_lexer": "ipython3",
   "version": "3.5.2"
  }
 },
 "nbformat": 4,
 "nbformat_minor": 2
}

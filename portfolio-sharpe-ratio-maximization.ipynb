{
 "cells": [
  {
   "cell_type": "code",
   "execution_count": null,
   "metadata": {
    "collapsed": true
   },
   "outputs": [],
   "source": [
    "def statistics(ws):\n",
    "    import numpy as np\n",
    "\n",
    "    weights = np.array(ws)\n",
    "    #log returns:\n",
    "    rets = np.log(data / data.shift(1))\n",
    "    # expected portfolio return:\n",
    "    pret = np.sum(rets.mean() * weights) * 252 \n",
    "    # expected portfolio volatility:\n",
    "    pvol = np.sqrt(np.dot(weights.T, np.dot(rets.cov() * 252, weights))) \n",
    "    # for simplicity we assume risk free short rate = 0:\n",
    "    rf = 0\n",
    "    # expected excess of the portfolio / expected standard deviation of the portfolio\n",
    "    sharpe_ratio = (pret - rf) / pvol\n",
    "    return np.array([pret, pvol, pret / pvol, sharpe_ratio])"
   ]
  },
  {
   "cell_type": "code",
   "execution_count": null,
   "metadata": {
    "collapsed": true
   },
   "outputs": [],
   "source": [
    "def min_func_sharpe(weights):\n",
    "    return -statistics(weights)[2]"
   ]
  },
  {
   "cell_type": "code",
   "execution_count": null,
   "metadata": {
    "collapsed": true
   },
   "outputs": [],
   "source": [
    "def optimize_sharpe_ratio(initial_weights, bnds, cons):\n",
    "    import scipy.optimize as sco\n",
    "    \n",
    "    opts = sco.minimize(min_func_sharpe, initial_weights, method = 'SLSQP', bounds = bnds, constraints = cons)\n",
    "    return opts['x'].round(3)"
   ]
  },
  {
   "cell_type": "code",
   "execution_count": null,
   "metadata": {
    "collapsed": true
   },
   "outputs": [],
   "source": [
    "def load_data(symbols):\n",
    "    import pandas as pd\n",
    "    from dao import InvestDao\n",
    "    \n",
    "    dao = InvestDao()\n",
    "    data = pd.DataFrame()\n",
    "    for sym in symbols:\n",
    "        rows = dao.sql(\"SELECT close FROM stock_quotes WHERE dtyymmdd > '2016-06-01' AND ticker = '%s' ORDER BY dtyymmdd\" % sym)\n",
    "        data[sym] = [float(r[0]) for r in rows]\n",
    "    data.columns = symbols\n",
    "    return data"
   ]
  },
  {
   "cell_type": "code",
   "execution_count": null,
   "metadata": {},
   "outputs": [],
   "source": [
    "symbols = ['KGHM', 'PGNIG', 'PKOBP']\n",
    "data = load_data(symbols)\n",
    "noa = len(symbols)\n",
    "initial_weights = noa * [1. / noa,]\n",
    "# weights boundaries between 0 and 1\n",
    "bnds = tuple((0, 1) for x in range(noa))\n",
    "# constraint that all weights add up to 1\n",
    "import numpy as np\n",
    "cons = ({'type': 'eq', 'fun': lambda x: np.sum(x) - 1 })"
   ]
  },
  {
   "cell_type": "code",
   "execution_count": null,
   "metadata": {},
   "outputs": [],
   "source": [
    "optimal = optimize_sharpe_ratio(initial_weights, bnds, cons)\n",
    "optimal_stats = statistics(optimal)"
   ]
  },
  {
   "cell_type": "code",
   "execution_count": null,
   "metadata": {},
   "outputs": [],
   "source": [
    "print(\"The optimal portfolio weights are: %s\" % optimal)\n",
    "print(\"The optimal portfolio expected return is: %s, expected volatility: %s, Sharpe ratio: %s\" % (optimal_stats[0], optimal_stats[1], optimal_stats[2]))"
   ]
  },
  {
   "cell_type": "code",
   "execution_count": null,
   "metadata": {
    "collapsed": true
   },
   "outputs": [],
   "source": []
  }
 ],
 "metadata": {
  "kernelspec": {
   "display_name": "Python 3",
   "language": "python",
   "name": "python3"
  },
  "language_info": {
   "codemirror_mode": {
    "name": "ipython",
    "version": 3
   },
   "file_extension": ".py",
   "mimetype": "text/x-python",
   "name": "python",
   "nbconvert_exporter": "python",
   "pygments_lexer": "ipython3",
   "version": "3.5.2"
  }
 },
 "nbformat": 4,
 "nbformat_minor": 2
}

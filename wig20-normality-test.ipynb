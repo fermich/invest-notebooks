{
 "cells": [
  {
   "cell_type": "code",
   "execution_count": null,
   "metadata": {},
   "outputs": [],
   "source": [
    "def print_statistics(array): \n",
    "  import scipy.stats as scs\n",
    "\n",
    "  sta = scs.describe(array) \n",
    "  print(\"%s %s\" % ('statistic' , 'value'))\n",
    "  print(30 * \"-\")\n",
    "  print(\"%14s %15.5f\" % ('size', sta[0]))\n",
    "  print(\"%14s %15.5f\" % ('min', sta[1][0]))\n",
    "  print(\"%14s %15.5f\" % ('max', sta[1][1]))\n",
    "  print(\"%14s %15.5f\" % ('mean', sta[2]))\n",
    "  print(\"%14s %15.5f\" % ('std', np.sqrt(sta[3])))\n",
    "  print(\"%14s %15.5f\" % ('skew', sta[4]))\n",
    "  print(\"%14s %15.5f\" % ('kurtosis', sta[5]))\n"
   ]
  },
  {
   "cell_type": "code",
   "execution_count": null,
   "metadata": {
    "collapsed": true
   },
   "outputs": [],
   "source": [
    "def normality_tests(arr): \n",
    "  import scipy.stats as scs\n",
    "\n",
    "  print(\"Skew of data set %14.3f\" % scs.skew(arr))\n",
    "  print(\"Skew test p-value %14.3f\" % scs.skewtest(arr)[1])\n",
    "  print(\"Kurt of data set %14.3f\" % scs.kurtosis(arr))\n",
    "  print(\"Kurt test p-value %14.3f\" % scs.kurtosistest(arr)[1])\n",
    "  print(\"Norm test p-value %14.3f\" % scs.normaltest(arr)[1])"
   ]
  },
  {
   "cell_type": "code",
   "execution_count": null,
   "metadata": {
    "collapsed": true
   },
   "outputs": [],
   "source": [
    "def plot_hist(log_returns, r, sigma, M):\n",
    "  import scipy.stats as scs\n",
    "  from numpy import sqrt\n",
    "  import matplotlib.pyplot as plt\n",
    "    \n",
    "  plt.hist(log_returns, bins=70, normed=True, label='frequency') \n",
    "  plt.grid (True) \n",
    "  plt.xlabel('log-return') \n",
    "  plt.ylabel('frequency') \n",
    "  x = np.linspace(plt.axis()[0], plt.axis()[1]) \n",
    "  plt.plot(x, scs.norm.pdf(x, loc = r/M, scale = sigma/sqrt(M)), 'r', lw = 2.0, label = 'pdf') \n",
    "  plt.legend()"
   ]
  },
  {
   "cell_type": "code",
   "execution_count": null,
   "metadata": {
    "collapsed": true
   },
   "outputs": [],
   "source": [
    "def gen_mc_paths(S0, r, sigma, T, M=50, I=250000):\n",
    "  from numpy import random, zeros, exp, sqrt, float64\n",
    "\n",
    "  dt = float(T)/M \n",
    "  paths = zeros((M + 1, I), float64) \n",
    "  paths[0] = S0 \n",
    "  for t in range(1, M + 1): \n",
    "    rand = random.standard_normal(I) \n",
    "    rand = (rand - rand.mean()) / rand.std() \n",
    "    paths[t] = paths[t - 1] * exp((r - 0.5 * sigma ** 2) * dt + sigma * sqrt(dt) * rand)\n",
    "  return paths"
   ]
  },
  {
   "cell_type": "code",
   "execution_count": null,
   "metadata": {
    "collapsed": true
   },
   "outputs": [],
   "source": [
    "def reference_mc_data_test():\n",
    "  import numpy as np\n",
    "\n",
    "  print(\"Normal distributed MC simulated data\")\n",
    "  print(33 * \"-\")\n",
    "  mc_paths = gen_mc_paths(100., 0.05, 0.2, 1.0)\n",
    "  mc_log_returns = np.log(mc_paths[1:]/mc_paths[0:-1])\n",
    "  normality_tests(mc_log_returns.flatten())\n",
    "  plot_hist(mc_log_returns.flatten(), 0.05, 0.2, 50)"
   ]
  },
  {
   "cell_type": "code",
   "execution_count": null,
   "metadata": {},
   "outputs": [],
   "source": [
    "def stock_index_test():\n",
    "  import pandas as pd\n",
    "  from dao import InvestDao\n",
    "\n",
    "  dao = InvestDao(host=\"172.17.0.1\", port=3306, user=\"user\", passwd=\"passwd\", db=\"db\")\n",
    "  rows = dao.sql(\"SELECT close FROM stock_quotes WHERE dtyymmdd > '2016-06-01' AND ticker = 'WIG20'\")\n",
    "  data = pd.DataFrame()\n",
    "  data['WIG20'] = [float(r[0]) for r in rows]\n",
    "  log_returns = np.log(data / data.shift(1))  \n",
    "  log_data = np.array(log_returns['WIG20'].dropna())\n",
    "  \n",
    "  print(\"WIG20 index data\")\n",
    "  print(33 * \"-\")\n",
    "  normality_tests(log_data)  \n",
    "  log_returns.hist(bins = 50, figsize = (9, 6))"
   ]
  },
  {
   "cell_type": "code",
   "execution_count": null,
   "metadata": {},
   "outputs": [],
   "source": [
    "reference_mc_data_test()"
   ]
  },
  {
   "cell_type": "code",
   "execution_count": null,
   "metadata": {},
   "outputs": [],
   "source": [
    "stock_index_test()"
   ]
  },
  {
   "cell_type": "code",
   "execution_count": null,
   "metadata": {
    "collapsed": true
   },
   "outputs": [],
   "source": []
  }
 ],
 "metadata": {
  "kernelspec": {
   "display_name": "Python 3",
   "language": "python",
   "name": "python3"
  },
  "language_info": {
   "codemirror_mode": {
    "name": "ipython",
    "version": 3
   },
   "file_extension": ".py",
   "mimetype": "text/x-python",
   "name": "python",
   "nbconvert_exporter": "python",
   "pygments_lexer": "ipython3",
   "version": "3.5.2"
  }
 },
 "nbformat": 4,
 "nbformat_minor": 2
}

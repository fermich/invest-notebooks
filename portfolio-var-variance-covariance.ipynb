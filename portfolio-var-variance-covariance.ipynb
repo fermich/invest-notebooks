{
 "cells": [
  {
   "cell_type": "code",
   "execution_count": null,
   "metadata": {
    "collapsed": true
   },
   "outputs": [],
   "source": [
    "def var_variance_covariance(data, weights, confidence):\n",
    "  import numpy as np\n",
    "  from scipy import stats\n",
    "\n",
    "  # MPT (mean-variance portfolio theory) refers to the mean and variance of the (log) returns of the securities\n",
    "  rets = np.log(data / data.shift(1))\n",
    "\n",
    "  # expected portfolio return\n",
    "  er = np.sum(rets.mean() * weights) * 252\n",
    "\n",
    "  # expected portfolio standard deviation/volatility\n",
    "  vol = np.sqrt(np.dot(weights.T, np.dot(rets.cov() * 252, weights)))\n",
    "\n",
    "  # Value at Risk:\n",
    "  var = vol * stats.norm.cdf(confidence, 0.0, 1.0)\n",
    "  print(\"Expected return: %s; Expected volatilitty: %s; VaR: %s\" % (er, vol, var))\n",
    "  return var"
   ]
  },
  {
   "cell_type": "code",
   "execution_count": null,
   "metadata": {
    "collapsed": true
   },
   "outputs": [],
   "source": [
    "from dao import InvestDao\n",
    "dao = InvestDao()"
   ]
  },
  {
   "cell_type": "code",
   "execution_count": null,
   "metadata": {
    "collapsed": true
   },
   "outputs": [],
   "source": [
    "import pandas as pd\n",
    "\n",
    "symbols = ['KGHM', 'PGNIG', 'PKOBP']\n",
    "data = pd.DataFrame()\n",
    "for sym in symbols: \n",
    "    rows = dao.sql(\"SELECT close FROM stock_quotes WHERE dtyymmdd > '2016-06-01' AND ticker = '%s' ORDER BY dtyymmdd\" % sym)\n",
    "    data[sym] = [float(r[0]) for r in rows]\n",
    "\n",
    "data.columns = symbols"
   ]
  },
  {
   "cell_type": "code",
   "execution_count": null,
   "metadata": {
    "collapsed": true
   },
   "outputs": [],
   "source": [
    "import numpy as np \n",
    "\n",
    "# random portfolio weighting\n",
    "weights = np.random.random(len(symbols))\n",
    "weights /= np.sum(weights)"
   ]
  },
  {
   "cell_type": "code",
   "execution_count": null,
   "metadata": {},
   "outputs": [],
   "source": [
    "confidence = 0.95\n",
    "portfolio_size = 1000000\n",
    "var = var_variance_covariance(data, weights, 0.95)\n",
    "print(\"VaR of a portfolio worth %s at confidence level %s is: %s\" % (portfolio_size, confidence, var * portfolio_size))"
   ]
  },
  {
   "cell_type": "code",
   "execution_count": null,
   "metadata": {
    "collapsed": true
   },
   "outputs": [],
   "source": []
  }
 ],
 "metadata": {
  "kernelspec": {
   "display_name": "Python 3",
   "language": "python",
   "name": "python3"
  },
  "language_info": {
   "codemirror_mode": {
    "name": "ipython",
    "version": 3
   },
   "file_extension": ".py",
   "mimetype": "text/x-python",
   "name": "python",
   "nbconvert_exporter": "python",
   "pygments_lexer": "ipython3",
   "version": "3.5.2"
  }
 },
 "nbformat": 4,
 "nbformat_minor": 2
}

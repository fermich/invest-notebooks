{
 "cells": [
  {
   "cell_type": "code",
   "execution_count": null,
   "metadata": {
    "collapsed": true
   },
   "outputs": [],
   "source": [
    "def statistics(ws):\n",
    "    import numpy as np\n",
    "\n",
    "    weights = np.array(ws)\n",
    "    # log returns:\n",
    "    rets = np.log(data / data.shift(1))\n",
    "    # expected portfolio return:\n",
    "    pret = np.sum(rets.mean() * weights) * 252 \n",
    "    # expected portfolio volatility:\n",
    "    pvol = np.sqrt(np.dot(weights.T, np.dot(rets.cov() * 252, weights))) \n",
    "    # for simplicity we assume risk free short rate = 0:\n",
    "    rf = 0\n",
    "    # expected excess of the portfolio / expected standard deviation of the portfolio\n",
    "    sharpe_ratio = (pret - rf) / pvol\n",
    "    return np.array([pret, pvol, pret / pvol, sharpe_ratio])"
   ]
  },
  {
   "cell_type": "code",
   "execution_count": null,
   "metadata": {
    "collapsed": true
   },
   "outputs": [],
   "source": [
    "def min_func_port(weights):\n",
    "    return statistics(weights)[1]"
   ]
  },
  {
   "cell_type": "code",
   "execution_count": null,
   "metadata": {
    "collapsed": true
   },
   "outputs": [],
   "source": [
    "def efficient_frontier_portfolios():\n",
    "    import scipy.interpolate as sci\n",
    "    import scipy.optimize as sco\n",
    "    import numpy as np\n",
    "    \n",
    "    # weights boundaries between 0 and 1\n",
    "    bnds = tuple((0, 1) for x in range(noa))\n",
    "    # constraint that all weights add up to 1\n",
    "    cons = ({'type': 'eq', 'fun': lambda x: np.sum(x) - 1 })\n",
    "    \n",
    "    trets = np.linspace(0.0, 0.25, 50)\n",
    "    tvols = []\n",
    "    # for each return level find those portfolio weights that lead to the minimum volatility:\n",
    "    for tret in trets:\n",
    "        cons = ({'type': 'eq', 'fun': lambda x: statistics(x)[0] - tret}, \n",
    "                {'type': 'eq', 'fun': lambda x: np.sum(x) - 1})\n",
    "        initial_weights = noa * [ 1. / noa ,]\n",
    "        res = sco.minimize(min_func_port, initial_weights, method='SLSQP', bounds=bnds , constraints=cons)\n",
    "        tvols = np.append(tvols, res['fun']) \n",
    "        tvols = np.array(tvols)\n",
    "    # select efficient frontier portfolios- with a higher return than the absolute minimum variance portfolio:\n",
    "    ef_ind = np.argmin(tvols)\n",
    "    ef_vols = tvols[ef_ind:]\n",
    "    ef_rets = trets[ef_ind:]\n",
    "    \n",
    "    # interpolate efficient frontier curve:\n",
    "    tck = sci.splrep(ef_vols, ef_rets)\n",
    "    return tck"
   ]
  },
  {
   "cell_type": "code",
   "execution_count": null,
   "metadata": {
    "collapsed": true
   },
   "outputs": [],
   "source": [
    "def capital_market_line(tck, risk_free_rate):\n",
    "    # Determine an efficient portfolio of risky assets and then add the riskless asset to the mix.\n",
    "    # We are looking for is a function f(x)=a+b*x describing the line that passes through \n",
    "    # the riskless asset (a=risk_free_rate) and that is tangent to the efficient frontier.\n",
    "    import scipy.interpolate as sci\n",
    "    import scipy.optimize as sco\n",
    "    \n",
    "    def f(x):\n",
    "        # efficient frontier function (spline approximation)\n",
    "        return sci.splev(x, tck, der=0)\n",
    "    \n",
    "    def df(x):\n",
    "        # first derivative of efficient frontier function required to find tangent to the efficient frontier\n",
    "        return sci.splev(x, tck, der=1)\n",
    "    \n",
    "    def equations(p, rf=risk_free_rate):\n",
    "        eq1 = rf - p[0]\n",
    "        eq2 = rf + p[1] * p[2] - f(p[2]) \n",
    "        eq3 = p[1] - df(p[2]) \n",
    "        return eq1 , eq2 , eq3\n",
    "    \n",
    "    # find cml by solving equations:\n",
    "    opt = sco.fsolve(equations, [risk_free_rate, 20, 0.2])\n",
    "    return opt"
   ]
  },
  {
   "cell_type": "code",
   "execution_count": null,
   "metadata": {
    "collapsed": true
   },
   "outputs": [],
   "source": [
    "def load_data(symbols):\n",
    "    import pandas as pd\n",
    "    from dao import InvestDao\n",
    "    \n",
    "    dao = InvestDao()\n",
    "    data = pd.DataFrame()\n",
    "    for sym in symbols:\n",
    "        rows = dao.sql(\"SELECT close FROM stock_quotes WHERE dtyymmdd > '2016-06-01' AND ticker = '%s' ORDER BY dtyymmdd\" % sym)\n",
    "        data[sym] = [float(r[0]) for r in rows]\n",
    "    data.columns = symbols\n",
    "    return data"
   ]
  },
  {
   "cell_type": "code",
   "execution_count": null,
   "metadata": {
    "collapsed": true
   },
   "outputs": [],
   "source": [
    "symbols = ['KGHM', 'BZWBK', 'PGNIG', 'PKOBP', 'CCC', 'CYFRPLSAT', 'ENERGA']\n",
    "data = load_data(symbols)\n",
    "noa = len(symbols)"
   ]
  },
  {
   "cell_type": "code",
   "execution_count": null,
   "metadata": {
    "collapsed": true
   },
   "outputs": [],
   "source": [
    "efp = efficient_frontier_portfolios()"
   ]
  },
  {
   "cell_type": "code",
   "execution_count": null,
   "metadata": {},
   "outputs": [],
   "source": [
    "risk_free_rate = 0.01\n",
    "cml = capital_market_line(efp, risk_free_rate)"
   ]
  },
  {
   "cell_type": "code",
   "execution_count": null,
   "metadata": {},
   "outputs": [],
   "source": [
    "print(\"Capital market line is: y = %s + %s * x\" % (cml[0], cml[1]))"
   ]
  },
  {
   "cell_type": "code",
   "execution_count": null,
   "metadata": {
    "collapsed": true
   },
   "outputs": [],
   "source": []
  }
 ],
 "metadata": {
  "kernelspec": {
   "display_name": "Python 3",
   "language": "python",
   "name": "python3"
  },
  "language_info": {
   "codemirror_mode": {
    "name": "ipython",
    "version": 3
   },
   "file_extension": ".py",
   "mimetype": "text/x-python",
   "name": "python",
   "nbconvert_exporter": "python",
   "pygments_lexer": "ipython3",
   "version": "3.5.2"
  }
 },
 "nbformat": 4,
 "nbformat_minor": 2
}

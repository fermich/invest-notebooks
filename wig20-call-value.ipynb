{
 "cells": [
  {
   "cell_type": "code",
   "execution_count": null,
   "metadata": {
    "collapsed": true
   },
   "outputs": [],
   "source": [
    "def bsm_call_value (S, X, t, r, sigma):\n",
    "  '''\n",
    "  S : float - initial stock/index level \n",
    "  X : float - strike price \n",
    "  t : float - maturity date\n",
    "  r : float - constant risk-free short rate \n",
    "  sigma : float - volatility\n",
    "  '''\n",
    "\n",
    "  from math import log, sqrt, exp\n",
    "  from scipy import stats\n",
    "  \n",
    "  S = float(S)\n",
    "  d1 = (log(S/X) + (r + 0.5 * sigma ** 2) * t) / (sigma * sqrt(t))\n",
    "  d2 = (log(S/X) + (r - 0.5 * sigma ** 2) * t) / (sigma * sqrt(t))\n",
    "  value = (S * stats.norm.cdf(d1, 0.0, 1.0) - X * exp (-r * t) * stats.norm.cdf(d2, 0.0, 1.0))\n",
    "  return value"
   ]
  },
  {
   "cell_type": "code",
   "execution_count": null,
   "metadata": {},
   "outputs": [],
   "source": [
    "from dao import InvestDao\n",
    "dao = InvestDao(host=\"172.17.0.1\", port=3306, user=\"user\", passwd=\"passwd\", db=\"db\")"
   ]
  },
  {
   "cell_type": "code",
   "execution_count": null,
   "metadata": {
    "collapsed": true
   },
   "outputs": [],
   "source": [
    "r = dao.sql(\"select rate from rates where dtyymmdd='2017-06-02' and symbol='WIBOR6M'\")[0]\n",
    "rate = float(r[0])/100.0"
   ]
  },
  {
   "cell_type": "code",
   "execution_count": null,
   "metadata": {
    "collapsed": true
   },
   "outputs": [],
   "source": [
    "(ttm, strike, close) = dao.sql(\"select ttm, strike, close from v_option_quotes where ticker='OW20C181800' and dtyymmdd='2017-06-02' and type='C'\")[0]"
   ]
  },
  {
   "cell_type": "code",
   "execution_count": null,
   "metadata": {
    "collapsed": true
   },
   "outputs": [],
   "source": [
    "(initial, avg_close, std_close) = dao.sql(\"select close, avg_close, std_close from v_stock_stats where dtyymmdd = '2017-06-02'\")[0]\n",
    "volatility = float(std_close)/float(avg_close)"
   ]
  },
  {
   "cell_type": "code",
   "execution_count": null,
   "metadata": {
    "collapsed": true
   },
   "outputs": [],
   "source": [
    "calculated = bsm_call_value(float(initial), float(strike), float(ttm), float(rate), volatility)"
   ]
  },
  {
   "cell_type": "code",
   "execution_count": null,
   "metadata": {},
   "outputs": [],
   "source": [
    "print(\"real=%s calculated=%s\" % (close, calculated))"
   ]
  },
  {
   "cell_type": "code",
   "execution_count": null,
   "metadata": {
    "collapsed": true
   },
   "outputs": [],
   "source": []
  }
 ],
 "metadata": {
  "kernelspec": {
   "display_name": "Python 3",
   "language": "python",
   "name": "python3"
  },
  "language_info": {
   "codemirror_mode": {
    "name": "ipython",
    "version": 3
   },
   "file_extension": ".py",
   "mimetype": "text/x-python",
   "name": "python",
   "nbconvert_exporter": "python",
   "pygments_lexer": "ipython3",
   "version": "3.5.2"
  }
 },
 "nbformat": 4,
 "nbformat_minor": 2
}

{
 "cells": [
  {
   "cell_type": "code",
   "execution_count": null,
   "metadata": {
    "collapsed": true
   },
   "outputs": [],
   "source": [
    "def load_data(symbols):\n",
    "    import pandas as pd\n",
    "    from dao import InvestDao\n",
    "    \n",
    "    dao = InvestDao()\n",
    "    data = pd.DataFrame()\n",
    "    for sym in symbols:\n",
    "        rows = dao.sql(\"SELECT close FROM stock_quotes WHERE dtyymmdd > '2016-06-01' AND ticker = '%s' ORDER BY dtyymmdd\" % sym)\n",
    "        data[sym] = [float(r[0]) for r in rows]\n",
    "    data.columns = symbols\n",
    "    return data"
   ]
  },
  {
   "cell_type": "code",
   "execution_count": null,
   "metadata": {
    "collapsed": true
   },
   "outputs": [],
   "source": [
    "# helpers to normalize data\n",
    "scale_function = lambda x: (x - x.mean()) / x.std()\n",
    "get_we = lambda x: x / x.sum()"
   ]
  },
  {
   "cell_type": "code",
   "execution_count": null,
   "metadata": {
    "collapsed": true
   },
   "outputs": [],
   "source": [
    "# convert a set of observations (stocks) of possibly correlated variables into a set of values of linearly uncorrelated variables called principal components (index levels)\n",
    "def pca_index(n_comps, data):\n",
    "    import numpy as np\n",
    "    from sklearn.decomposition import KernelPCA\n",
    "\n",
    "    pca = KernelPCA(n_components=n_comps).fit(data.apply(scale_function)) \n",
    "    pca_components = pca.transform(-data) \n",
    "    weights = get_we(pca.lambdas_)\n",
    "    return np.dot(pca_components, weights)"
   ]
  },
  {
   "cell_type": "code",
   "execution_count": null,
   "metadata": {
    "collapsed": true
   },
   "outputs": [],
   "source": [
    "stocks_data = load_data(['ALIOR', 'ASSECOPOL', 'BZWBK', 'CCC', 'CYFRPLSAT', 'ENERGA', 'EUROCASH', 'JSW', 'KGHM', 'LOTOS', 'LPP', 'MBANK', 'ORANGEPL', 'PEKAO', 'PGE', 'PGNIG', 'PKNORLEN', 'PKOBP', 'PZU', 'TAURONPE'])\n",
    "index_data = load_data(['WIG20'])\n",
    "\n",
    "index_data['PCA_5'] = pca_index(5, stocks_data)"
   ]
  },
  {
   "cell_type": "code",
   "execution_count": null,
   "metadata": {},
   "outputs": [],
   "source": [
    "import matplotlib.pyplot as plt \n",
    "%matplotlib inline\n",
    "\n",
    "#compare original wig20 index with pca index:\n",
    "index_data.apply(scale_function).plot(figsize=(8, 4))"
   ]
  },
  {
   "cell_type": "code",
   "execution_count": null,
   "metadata": {
    "collapsed": true
   },
   "outputs": [],
   "source": []
  }
 ],
 "metadata": {
  "kernelspec": {
   "display_name": "Python 3",
   "language": "python",
   "name": "python3"
  },
  "language_info": {
   "codemirror_mode": {
    "name": "ipython",
    "version": 3
   },
   "file_extension": ".py",
   "mimetype": "text/x-python",
   "name": "python",
   "nbconvert_exporter": "python",
   "pygments_lexer": "ipython3",
   "version": "3.5.2"
  }
 },
 "nbformat": 4,
 "nbformat_minor": 2
}
